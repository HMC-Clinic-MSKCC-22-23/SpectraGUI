{
 "cells": [
  {
   "cell_type": "code",
   "execution_count": 3,
   "metadata": {},
   "outputs": [
    {
     "name": "stderr",
     "output_type": "stream",
     "text": [
      "/Library/Frameworks/Python.framework/Versions/3.9/lib/python3.9/site-packages/tqdm/auto.py:22: TqdmWarning: IProgress not found. Please update jupyter and ipywidgets. See https://ipywidgets.readthedocs.io/en/stable/user_install.html\n",
      "  from .autonotebook import tqdm as notebook_tqdm\n"
     ]
    }
   ],
   "source": [
    "# import our libraries\n",
    "import sys\n",
    "import json\n",
    "import sys\n",
    "import PyQt5.QtWidgets as qw\n",
    "import PyQt5.QtCore as qc\n",
    "import PyQt5.QtGui as qg\n",
    "from spectra import spectra as spc\n",
    "import scanpy as sc\n",
    "import matplotlib\n",
    "from matplotlib.backends.backend_qt5agg import FigureCanvasAgg\n",
    "matplotlib.use(\"Qt5Agg\")\n",
    "from matplotlib import rcParams\n",
    "rcParams.update({'figure.autolayout': True})\n"
   ]
  },
  {
   "cell_type": "code",
   "execution_count": 9,
   "metadata": {},
   "outputs": [],
   "source": [
    "adata = sc.read_h5ad(\"../new_data.h5ad\")\n",
    "\n",
    "#with open(\"../spectra/annotations_2.json\", \"rb\") as file:\n",
    "     #annotations = json.load(file)"
   ]
  },
  {
   "cell_type": "code",
   "execution_count": 10,
   "metadata": {},
   "outputs": [
    {
     "data": {
      "text/plain": [
       "196"
      ]
     },
     "execution_count": 10,
     "metadata": {},
     "output_type": "execute_result"
    }
   ],
   "source": [
    "len(adata.obsm[\"SPECTRA_cell_scores\"][0,:])"
   ]
  },
  {
   "cell_type": "code",
   "execution_count": 32,
   "metadata": {},
   "outputs": [
    {
     "name": "stdout",
     "output_type": "stream",
     "text": [
      "A2M SELENOP SLC40A1 FCGBP MAFB\n",
      "196\n"
     ]
    }
   ],
   "source": [
    "\n",
    "factorNames = adata.uns[\"SPECTRA_markers\"][0,:5]\n",
    "print(\" \".join(factorNames))\n",
    "\n",
    "\n",
    "print(len(adata.uns[\"SPECTRA_markers\"]))"
   ]
  },
  {
   "cell_type": "code",
   "execution_count": 53,
   "metadata": {},
   "outputs": [],
   "source": [
    "def colorByFactor():\n",
    "    factorList = []\n",
    "    for i in range(len(adata.uns[\"SPECTRA_markers\"])):\n",
    "        factorNames = ', '.join(adata.uns[\"SPECTRA_markers\"][i][:5])\n",
    "        factorString = \"Factor \" + str(i) + \": \" + factorNames\n",
    "        factorList.append(factorString)\n",
    "    return factorList\n"
   ]
  },
  {
   "cell_type": "code",
   "execution_count": 54,
   "metadata": {},
   "outputs": [
    {
     "data": {
      "text/plain": [
       "['Factor 0: A2M, SELENOP, SLC40A1, FCGBP, MAFB',\n",
       " 'Factor 1: MTRNR2L8, PPOX, MTRNR2L1, ALAD, BLVRB',\n",
       " 'Factor 2: EGR1, NR4A1, GADD45B, KDM6B, RHOB',\n",
       " 'Factor 3: COL1A1, COL3A1, SPARC, COL1A2, SFRP2',\n",
       " 'Factor 4: SOCS1, TGFB1, IL12RB1, PTPN2, IFNAR1',\n",
       " 'Factor 5: ACAA1, ACOT8, IDH3B, ACOX3, ACOX1',\n",
       " 'Factor 6: GPAT4, AGPAT2, AGPAT5, FBXO34, AGPAT3',\n",
       " 'Factor 7: ARNTL, CRY1, CRY2, CSNK1E, DGKE',\n",
       " 'Factor 8: GUSB, NOL8, RABEPK, ACACA, METTL18',\n",
       " 'Factor 9: DUSP2, DNAJB1, DUSP1, CXCR4, RGS1',\n",
       " 'Factor 10: HLA-DOB, HLA-DPA1, CD79B, LTB, SELL',\n",
       " 'Factor 11: RAB3GAP2, UFL1, KAT5, SCOC, LARP1',\n",
       " 'Factor 12: ADH5, TET2, C12orf75, TET1, KLF2',\n",
       " 'Factor 13: COMTD1, COMT, SULT1A1, GOT2, GSTZ1',\n",
       " 'Factor 14: FBXO7, HUWE1, CISD2, ATG3, USP36',\n",
       " 'Factor 15: HSPA1A, HSPA1B, DNAJB1, HSPH1, HSP90AA1',\n",
       " 'Factor 16: TRIM33, DIAPH2, SLC35B4, SLC35C1, PRKAB2',\n",
       " 'Factor 17: XRCC5, XRCC6, NFAT5, ARHGEF2, ANXA7',\n",
       " 'Factor 18: C1GALT1, GALNT11, GALNT2, GALNT6, GALNT7',\n",
       " 'Factor 19: SLC25A3, NAXE, CACYBP, OSTC, CHCHD7',\n",
       " 'Factor 20: POLR3GL, POLR3K, POLR3C, MAVS, POLR3D',\n",
       " 'Factor 21: CLEC16A, VPS13C, BRWD3, ANKRD36, SSH2',\n",
       " 'Factor 22: AL138963.3, P4HA1, PLOD3, AL133415.1, HIST1H1E',\n",
       " 'Factor 23: RASSF5, ITGA4, PTK2B, SIPA1, GNAI2',\n",
       " 'Factor 24: EIF3H, SLC25A6, RACK1, ATP5MC2, PHB2',\n",
       " 'Factor 25: IL32, CXCR3, CD3D, CD2, LCK',\n",
       " 'Factor 26: KMT2D, MXD4, CYB561D1, SUV39H1, GRK2',\n",
       " 'Factor 27: NASP, SLBP, NPAT, PCNA, RRM1',\n",
       " 'Factor 28: SLC7A5, GOT1, GSTZ1, TNIP3, AC020916.1',\n",
       " 'Factor 29: SLC6A6, CAB39, KIF13B, IDH1, GRK2',\n",
       " 'Factor 30: CXCL10, CXCL9, FN1, CXCL11, GBP1',\n",
       " 'Factor 31: NDUFA8, TIMM17A, FDX1, NDUFB6, NDUFB3',\n",
       " 'Factor 32: ETS1, UFC1, HMGB2, HNRNPUL1, EPB41',\n",
       " 'Factor 33: PIP4K2A, FYCO1, PAFAH1B2, TSC1, SMCR8',\n",
       " 'Factor 34: NNT, CD38, KIF20B, BCL2L11, GBP4',\n",
       " 'Factor 35: CTNNB1, NOTCH1, DVL2, NCOR2, SKP2',\n",
       " 'Factor 36: RETREG3, UFM1, PIM2, ACSL3, IGFBP7',\n",
       " 'Factor 37: UBQLN1, DDRGK1, LGALS8, UBA5, MFN2',\n",
       " 'Factor 38: CKLF, RBPJ, LGALS1, COTL1, MPST',\n",
       " 'Factor 39: SLC38A1, DLD, SHMT2, SLC1A5, SHMT1',\n",
       " 'Factor 40: SDHA, PDHB, CS, IREB2, ME2',\n",
       " 'Factor 41: PRDX6, AKR1B1, CAT, AKR1A1, CBR1',\n",
       " 'Factor 42: NFKBIA, TNFAIP3, BIRC3, HSP90AA1, NFKBIZ',\n",
       " 'Factor 43: AAAS, CES2, CMPK1, SNX14, TRAPPC2',\n",
       " 'Factor 44: TCF7, IL7R, SELL, LTB, PASK',\n",
       " 'Factor 45: DIABLO, NEDD9, RARA, PPP3R1, ANKH',\n",
       " 'Factor 46: SDHB, IDH3A, IDH3G, OGDH, NUTF2',\n",
       " 'Factor 47: ATP6V1H, ATP6V1D, ATP6V1B2, ATP6V1C1, ATP6V0A2',\n",
       " 'Factor 48: SCP2, CH25H, SLC27A2, AMACR, CCNK',\n",
       " 'Factor 49: ITGB1BP1, PEX2, SMARCC1, PEX11B, SLC35B2',\n",
       " 'Factor 50: NUPR1, SDS, APOE, RNASE1, APOC1',\n",
       " 'Factor 51: FOS, FOSB, JUN, DUSP1, JUNB',\n",
       " 'Factor 52: ALG3, MAN1B1, DPAGT1, ALG2, ST6GAL1',\n",
       " 'Factor 53: DNMT1, FIP1L1, CRELD2, GSK3A, NEK9',\n",
       " 'Factor 54: HOOK3, LATS1, ARMC8, ASL, HIST1H1C',\n",
       " 'Factor 55: MX1, ISG15, IFI6, IFIT1, IFI44L',\n",
       " 'Factor 56: GSK3B, UGP2, PGM1, GYS1, H1FX',\n",
       " 'Factor 57: SMS, AMD1, ODC1, RGCC, CMPK1',\n",
       " 'Factor 58: TSTA3, PMM1, SLC25A11, GMPPB, YIPF5',\n",
       " 'Factor 59: TPK1, AC097376.2, LINC00324, UBE3D, AKT3',\n",
       " 'Factor 60: PRKAR2A, RAF1, MKNK2, MAPKAP1, CLTC',\n",
       " 'Factor 61: ECI2, METAP1, RAP1GDS1, HADHB, GRHPR',\n",
       " 'Factor 62: APH1A, PSENEN, NOTCH2, PPARD, LFNG',\n",
       " 'Factor 63: APRT, ITPA, ADA, ADK, DCXR',\n",
       " 'Factor 64: NME3, DCK, CANT1, NUDT2, NME6',\n",
       " 'Factor 65: PANK2, COASY, SLC25A16, PANK4, PANK3',\n",
       " 'Factor 66: LPCAT1, AGO2, TAF1, TMEM181, DNASE1',\n",
       " 'Factor 67: FDPS, HMGCR, COQ7, FN3KRP, WNT10A',\n",
       " 'Factor 68: TTC14, METTL17, TMEM168, ITFG2, FZR1',\n",
       " 'Factor 69: KRT19, KRT8, KRT18, ADIRF, TFF3',\n",
       " 'Factor 70: B3GAT3, CHST12, CSGALNACT2, HS2ST1, HS3ST3B1',\n",
       " 'Factor 71: PRDM1, DUSP16, ARID5B, IL6ST, CTLA4',\n",
       " 'Factor 72: MCCC2, HIBADH, SLC7A6, BCKDHA, ACAT1',\n",
       " 'Factor 73: AGL, TRMT13, ARHGEF7, PGM3, ANKRD36C',\n",
       " 'Factor 74: TPM1, ARL4A, CKS2, AP1S2, TESC',\n",
       " 'Factor 75: DIAPH1, KRAS, PIP4K2C, ARPC4, ARHGAP35',\n",
       " 'Factor 76: EMB, CRYBG1, FKBP5, AC025164.1, NCK2',\n",
       " 'Factor 77: TIMP1, IGFBP4, CCL20, MMP7, MIF',\n",
       " 'Factor 78: XBP1, PTGES2, CBR1, AKR1A1, LTA4H',\n",
       " 'Factor 79: ACP1, RFK, GTF2A2, RBX1, NUTF2',\n",
       " 'Factor 80: VCAN, SOD2, S100A8, S100A9, CFD',\n",
       " 'Factor 81: PIGC, PIGH, DPM2, PIGG, PIGK',\n",
       " 'Factor 82: IDI1, NR4A2, SOCS3, JUNB, DUSP2',\n",
       " 'Factor 83: CD8B, CD8A, SLC5A3, ITGA1, LINC02446',\n",
       " 'Factor 84: SDAD1, NFYB, CEBPG, DNAJB9, SPCS3',\n",
       " 'Factor 85: GLMN, KCTD13, FBXO33, UBE4A, ANAPC4',\n",
       " 'Factor 86: RDH11, ELP2, ZADH2, EPM2AIP1, MSL2',\n",
       " 'Factor 87: PMVK, LGALS3, EBP, MVD, ACAT2',\n",
       " 'Factor 88: ST6GALNAC6, ARSA, SPTLC2, SPTLC1, ASAH1',\n",
       " 'Factor 89: ATP1A1, SLC4A7, SLC3A2, SLC20A2, SLC12A6',\n",
       " 'Factor 90: MAT2B, AMD1, SLC25A26, DNMT3A, AHCYL1',\n",
       " 'Factor 91: PIM1, UPP1, CISH, CTPS1, CKLF',\n",
       " 'Factor 92: CCL4, CCL3, TNF, CCL3L1, CCL5',\n",
       " 'Factor 93: SLC23A2, OGDH, HECTD3, MTMR3, RETSAT',\n",
       " 'Factor 94: MT2A, MT1X, MT1E, PFKP, MT1F',\n",
       " 'Factor 95: TUT4, POLR1C, GCDH, MRNIP, SRPRB',\n",
       " 'Factor 96: HADHA, ECHDC2, ETFB, ETFA, ETFDH',\n",
       " 'Factor 97: PLPBP, OAT, GOT2, SLC7A1, SLC7A6',\n",
       " 'Factor 98: MAT2A, WDR74, GADD45B, AC007952.4, AC245014.3',\n",
       " 'Factor 99: NR4A2, B4GALT1, ZNF331, CREM, GALT',\n",
       " 'Factor 100: IL21R, EP300, STAT5A, BCL2L1, IRF9',\n",
       " 'Factor 101: TYMS, STMN1, NT5M, CENPM, RRM2',\n",
       " 'Factor 102: CENPF, MKI67, TOP2A, NUSAP1, UBE2C',\n",
       " 'Factor 103: IGKC, JCHAIN, MZB1, FKBP11, SSR4',\n",
       " 'Factor 104: ECH1, PTPRE, NMT2, VILL, DCAF16',\n",
       " 'Factor 105: ALDH9A1, AKR7A2, ALDH5A1, TAB1, TOLLIP',\n",
       " 'Factor 106: SLC16A7, RGS16, SLC16A1, SLC16A3, FBXO38',\n",
       " 'Factor 107: GLS, SLC25A22, SLC25A13, SLC3A2, DOCK9',\n",
       " 'Factor 108: NAPA, SNAP23, RAB8A, VAMP7, STX4',\n",
       " 'Factor 109: CAD, DHODH, ZNF598, SREBF2, ITGA6',\n",
       " 'Factor 110: TECR, HACD4, ELOVL1, SLC25A1, HACD2',\n",
       " 'Factor 111: MPRIP, PRDM1, CPT1A, D2HGDH, CRAT',\n",
       " 'Factor 112: SNAPC5, RAE1, POLL, DCTN4, LIG1',\n",
       " 'Factor 113: SCAI, KIAA1109, HLCS, MXD4, FASN',\n",
       " 'Factor 114: PDE4D, PDE6D, ADCY7, PDE8A, PDE6B',\n",
       " 'Factor 115: NPRL3, EXOC7, IFT20, MVB12A, EXOC1',\n",
       " 'Factor 116: RAD51C, CGRRF1, ANKRA2, CCNK, POM121',\n",
       " 'Factor 117: INPP5D, PIK3C3, PIK3C2A, PTEN, INPP5B',\n",
       " 'Factor 118: IDS, MYADM, RGCC, AC020916.1, GLUD1',\n",
       " 'Factor 119: ATG12, WDR45B, WDR45, WIPI2, ATG2A',\n",
       " 'Factor 120: PRDX1, PRDX3, GPX7, GLRX2, GGT1',\n",
       " 'Factor 121: CXCL13, DUSP4, TNFRSF18, MIR155HG, GEM',\n",
       " 'Factor 122: ERO1B, ZNF708, MSH2, RRAGA, BDH1',\n",
       " 'Factor 123: ATG9A, ATG7, ATG9B, AMMECR1, ZFP14',\n",
       " 'Factor 124: ACBD5, PIK3R4, MATR3, FAM160B1, RMRP',\n",
       " 'Factor 125: MANBA, NEU1, DDX18, UBE4B, HDAC3',\n",
       " 'Factor 126: RB1CC1, ATG13, FBXW11, UBXN6, UPF3B',\n",
       " 'Factor 127: HLA-DRB5, HLA-DRB1, HLA-DPA1, HLA-DRA, HLA-DPB1',\n",
       " 'Factor 128: MGP, FDCSP, SLC33A1, LTF, CALML5',\n",
       " 'Factor 129: CITED2, NDRG1, KDM3A, RBPJ, DDIT4',\n",
       " 'Factor 130: FNTA, SMARCA4, XIAP, ARID1B, CDK9',\n",
       " 'Factor 131: ATP6AP1, GLB1, HEXB, HEXA, IFI6',\n",
       " 'Factor 132: IRF3, TRADD, SIKE1, ATG5, RIPK1',\n",
       " 'Factor 133: UXS1, CMAS, GFPT1, NAGK, AMDHD2',\n",
       " 'Factor 134: KATNA1, ARFGEF1, CDK5RAP2, KIFAP3, CEP250',\n",
       " 'Factor 135: STARD3, FDFT1, GGPS1, SC5D, SQLE',\n",
       " 'Factor 136: DDX21, PHB, DDX18, CDK4, FKBP4',\n",
       " 'Factor 137: ST3GAL1, B3GNT2, ST3GAL3, ST3GAL4, B4GALT3',\n",
       " 'Factor 138: PML, CDK6, NF1, ADGRG1, MYH9',\n",
       " 'Factor 139: AUP1, ATP6V0C, LAMTOR4, PSMG1, POLR2C',\n",
       " 'Factor 140: HSPA5, HSP90AB1, HSD17B10, PGK1, PSMA3',\n",
       " 'Factor 141: ACLY, PSMD12, RPA1, IMMT, UCHL5',\n",
       " 'Factor 142: SLC38A2, SLC25A12, SLC38A5, ASNS, INSIG1',\n",
       " 'Factor 143: GNLY, GZMA, NKG7, PRF1, GZMB',\n",
       " 'Factor 144: GMPR2, KLHDC3, ELL, SNAPC5, PSME3',\n",
       " 'Factor 145: MUCL1, APOD, SCGB2A2, AZGP1, PIP',\n",
       " 'Factor 146: SESN1, FBXO32, FKBP5, ID2, TXNIP',\n",
       " 'Factor 147: DGKZ, CDS2, PAFAH1B3, PISD, CRLS1',\n",
       " 'Factor 148: C1QA, C1QB, C1QC, APOE, IFI27',\n",
       " 'Factor 149: FPGS, MTR, MTHFD1, RRAGC, DHFR',\n",
       " 'Factor 150: GRPR, AKR1C2, FNDC1, ECM2, NR2F1',\n",
       " 'Factor 151: RRM2, CLSPN, CDK1, PRDX1, ACY3',\n",
       " 'Factor 152: MS4A1, TNFRSF13B, SCIMP, BANK1, CD79A',\n",
       " 'Factor 153: LINC01480, SMAGP, CAT, COL19A1, RRM2B',\n",
       " 'Factor 154: CD79A, VPREB3, MS4A1, CD24, CXCR5',\n",
       " 'Factor 155: LINC01781, LY86, SCIMP, POU2AF1, PDLIM1',\n",
       " 'Factor 156: CD79B, PIK3C2B, PAX5, MGAT5, ADK',\n",
       " 'Factor 157: IGHD, CD72, VPREB3, FCER2, LINC00926',\n",
       " 'Factor 158: GZMA, CCL5, GZMK, IL7R, CD40LG',\n",
       " 'Factor 159: CTSL, CD40LG, TNFAIP3, FBLN7, CD6',\n",
       " 'Factor 160: ATXN1, NLRC3, MIAT, ITGB2-AS1, GOLGA8B',\n",
       " 'Factor 161: KLRB1, IL7R, CD40LG, TNFAIP3, FKBP11',\n",
       " 'Factor 162: PHLDA1, TRAF1, RORA, TTC39B, IL18R1',\n",
       " 'Factor 163: MAL, TCF7, CD3D, FLT3LG, LEF1',\n",
       " 'Factor 164: CXCL13, IGFL2, NMB, RBPJ, ITM2A',\n",
       " 'Factor 165: IL21, IL2RA, IL32, CTLA4, TNFRSF1B',\n",
       " 'Factor 166: LINC00861, NKTR, FYN, IL7R, TC2N',\n",
       " 'Factor 167: CD40LG, ANXA1, IL7R, KLF2, FOS',\n",
       " 'Factor 168: CXCL13, LAG3, PDCD1, IFNG, DUSP4',\n",
       " 'Factor 169: NKD1, BAG3, MAN1C1, PFN2, AC005920.1',\n",
       " 'Factor 170: CD8B, GZMB, IFNG, GZMA, CCL4L2',\n",
       " 'Factor 171: CD8B, LAG3, CD8A, OASL, CCL5',\n",
       " 'Factor 172: ZNF683, CD8B, XCL1, LINC02446, CD8A',\n",
       " 'Factor 173: SPATA13, DNAJC9, TLE4, ATF2, RECK',\n",
       " 'Factor 174: CD8B, CCL5, IL7R, CD8A, ANXA1',\n",
       " 'Factor 175: GZMA, GZMK, CCL5, NKG7, CST7',\n",
       " 'Factor 176: ETS2, ACSL6, PRSS23, LRRC8C, ATG16L1',\n",
       " 'Factor 177: IL1B, CD14, CCL3, CXCL8, MMP9',\n",
       " 'Factor 178: CLEC10A, LYZ, FCN1, FGL2, CST3',\n",
       " 'Factor 179: IDO1, CSF2RA, LGALS2, FSCN1, LAMP3',\n",
       " 'Factor 180: SPINK2, FXYD7, LINC00299, AL034397.3, FOS',\n",
       " 'Factor 181: SPP1, CXCL3, CXCL8, CXCL2, CCL3',\n",
       " 'Factor 182: CCL2, CCL8, CCL7, CTSL, APOBEC3A',\n",
       " 'Factor 183: PDK4, RNASE1, CD163, HMOX1, CD14',\n",
       " 'Factor 184: CD14, C3, MS4A6A, FCGR1A, SLCO2B1',\n",
       " 'Factor 185: IL1B, FCN1, S100A8, LYZ, CD14',\n",
       " 'Factor 186: PLA2G7, GPX3, MMP14, RNASE1, TIMP2',\n",
       " 'Factor 187: GNLY, KLRD1, KLRF1, KLRC1, NKG7',\n",
       " 'Factor 188: IL2RA, LINC01943, FOXP3, AC017002.3, DUSP4',\n",
       " 'Factor 189: MAL, RTKN2, CTLA4, UGP2, FOXP3',\n",
       " 'Factor 190: LINC02446, KLRC1, ZNF683, KIR2DL4, KRT86',\n",
       " 'Factor 191: TPSAB1, TPSB2, CPA3, MS4A2, HPGDS',\n",
       " 'Factor 192: IL1RL1, HDC, TPSD1, MS4A2, SLC18A2',\n",
       " 'Factor 193: GZMB, LILRA4, IRF7, PTGDS, JCHAIN',\n",
       " 'Factor 194: CLEC4C, MAP1A, SLC7A5, PTGDS, PTCRA',\n",
       " 'Factor 195: XBP1, DERL3, TXNDC5, CD38, AC012236.1']"
      ]
     },
     "execution_count": 54,
     "metadata": {},
     "output_type": "execute_result"
    }
   ],
   "source": [
    "colorByFactor()"
   ]
  }
 ],
 "metadata": {
  "kernelspec": {
   "display_name": "Python 3.9.1 64-bit",
   "language": "python",
   "name": "python3"
  },
  "language_info": {
   "codemirror_mode": {
    "name": "ipython",
    "version": 3
   },
   "file_extension": ".py",
   "mimetype": "text/x-python",
   "name": "python",
   "nbconvert_exporter": "python",
   "pygments_lexer": "ipython3",
   "version": "3.9.1"
  },
  "orig_nbformat": 4,
  "vscode": {
   "interpreter": {
    "hash": "aee8b7b246df8f9039afb4144a1f6fd8d2ca17a180786b69acc140d282b71a49"
   }
  }
 },
 "nbformat": 4,
 "nbformat_minor": 2
}
