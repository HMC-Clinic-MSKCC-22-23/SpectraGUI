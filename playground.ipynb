{
 "cells": [
  {
   "cell_type": "code",
   "execution_count": 1,
   "metadata": {},
   "outputs": [],
   "source": [
    "# import our libraries\n",
    "import pandas as pd\n",
    "import tracemalloc\n",
    "import seaborn as sb\n",
    "import scanpy as sc\n",
    "import json"
   ]
  },
  {
   "cell_type": "code",
   "execution_count": 8,
   "metadata": {},
   "outputs": [],
   "source": [
    "with open('config.yaml', 'r') as file:\n",
    "    config = yaml.safe_load(file)"
   ]
  },
  {
   "cell_type": "code",
   "execution_count": 2,
   "metadata": {},
   "outputs": [
    {
     "name": "stdout",
     "output_type": "stream",
     "text": [
      "Spectra GPU support is still under development. Raise any issues on github \n",
      " \n",
      " Changes from v1: \n",
      " (1) GPU support [see tutorial] \n",
      " (2) minibatching for local parameters and data \n",
      " Note that minibatching may affect optimization results \n",
      " Code will eventually be merged into spectra.py\n"
     ]
    }
   ],
   "source": [
    "import sys\n",
    "import sys, os\n",
    "sys.path.append(os.path.join(os.path.dirname(sys.path[0]),'spectra'))\n",
    "from spectra import spectra_gpu as spc"
   ]
  },
  {
   "cell_type": "code",
   "execution_count": 4,
   "metadata": {},
   "outputs": [],
   "source": [
    "adata = sc.read_h5ad(\"../new_data.h5ad\")\n",
    "\n",
    "annotations = (json.load(open(\"../spectra-gpu/data/Spectra_dict.json\")))"
   ]
  },
  {
   "cell_type": "code",
   "execution_count": 3,
   "metadata": {},
   "outputs": [
    {
     "data": {
      "text/plain": [
       "1"
      ]
     },
     "execution_count": 3,
     "metadata": {},
     "output_type": "execute_result"
    }
   ],
   "source": [
    "len({'hi': [\"joe\"]})"
   ]
  },
  {
   "cell_type": "code",
   "execution_count": 6,
   "metadata": {},
   "outputs": [
    {
     "data": {
      "text/plain": [
       "['B_cell', 'T_cell', 'Myeloid_cell', 'Cancer_cell', 'pDC', 'Mast_cell', 'Fibroblast', 'Endothelial_cell']\n",
       "Categories (8, object): ['B_cell', 'Cancer_cell', 'Endothelial_cell', 'Fibroblast', 'Mast_cell', 'Myeloid_cell', 'T_cell', 'pDC']"
      ]
     },
     "execution_count": 6,
     "metadata": {},
     "output_type": "execute_result"
    }
   ],
   "source": [
    "adata.obs[\"Bassez_cellType\"].unique()"
   ]
  },
  {
   "cell_type": "code",
   "execution_count": 5,
   "metadata": {},
   "outputs": [],
   "source": [
    "df = pd.DataFrame(adata.obsm[\"SPECTRA_cell_scores\"])\n",
    "df[\"cell_type\"] = adata.obs[\"Bassez_cellType\"].values\n",
    "df = df.groupby(\"cell_type\").mean()\n",
    "sb.set(font_scale = 0.9)"
   ]
  },
  {
   "cell_type": "code",
   "execution_count": 10,
   "metadata": {},
   "outputs": [
    {
     "data": {
      "text/html": [
       "<div>\n",
       "<style scoped>\n",
       "    .dataframe tbody tr th:only-of-type {\n",
       "        vertical-align: middle;\n",
       "    }\n",
       "\n",
       "    .dataframe tbody tr th {\n",
       "        vertical-align: top;\n",
       "    }\n",
       "\n",
       "    .dataframe thead th {\n",
       "        text-align: right;\n",
       "    }\n",
       "</style>\n",
       "<table border=\"1\" class=\"dataframe\">\n",
       "  <thead>\n",
       "    <tr style=\"text-align: right;\">\n",
       "      <th></th>\n",
       "      <th>1</th>\n",
       "      <th>2</th>\n",
       "      <th>3</th>\n",
       "      <th>4</th>\n",
       "      <th>5</th>\n",
       "    </tr>\n",
       "    <tr>\n",
       "      <th>cell_type</th>\n",
       "      <th></th>\n",
       "      <th></th>\n",
       "      <th></th>\n",
       "      <th></th>\n",
       "      <th></th>\n",
       "    </tr>\n",
       "  </thead>\n",
       "  <tbody>\n",
       "    <tr>\n",
       "      <th>B_cell</th>\n",
       "      <td>0.000312</td>\n",
       "      <td>0.000524</td>\n",
       "      <td>0.000775</td>\n",
       "      <td>0.000262</td>\n",
       "      <td>0.000527</td>\n",
       "    </tr>\n",
       "    <tr>\n",
       "      <th>Cancer_cell</th>\n",
       "      <td>0.000210</td>\n",
       "      <td>0.000161</td>\n",
       "      <td>0.003129</td>\n",
       "      <td>0.000216</td>\n",
       "      <td>0.000413</td>\n",
       "    </tr>\n",
       "    <tr>\n",
       "      <th>Endothelial_cell</th>\n",
       "      <td>0.000455</td>\n",
       "      <td>0.000416</td>\n",
       "      <td>0.012433</td>\n",
       "      <td>0.000218</td>\n",
       "      <td>0.000741</td>\n",
       "    </tr>\n",
       "    <tr>\n",
       "      <th>Fibroblast</th>\n",
       "      <td>0.000321</td>\n",
       "      <td>0.000325</td>\n",
       "      <td>0.013529</td>\n",
       "      <td>0.000158</td>\n",
       "      <td>0.000120</td>\n",
       "    </tr>\n",
       "    <tr>\n",
       "      <th>Mast_cell</th>\n",
       "      <td>0.000247</td>\n",
       "      <td>0.000619</td>\n",
       "      <td>0.000439</td>\n",
       "      <td>0.000284</td>\n",
       "      <td>0.000469</td>\n",
       "    </tr>\n",
       "    <tr>\n",
       "      <th>Myeloid_cell</th>\n",
       "      <td>0.000271</td>\n",
       "      <td>0.001212</td>\n",
       "      <td>0.000578</td>\n",
       "      <td>0.000219</td>\n",
       "      <td>0.000717</td>\n",
       "    </tr>\n",
       "    <tr>\n",
       "      <th>T_cell</th>\n",
       "      <td>0.000297</td>\n",
       "      <td>0.000331</td>\n",
       "      <td>0.000659</td>\n",
       "      <td>0.000416</td>\n",
       "      <td>0.000524</td>\n",
       "    </tr>\n",
       "    <tr>\n",
       "      <th>pDC</th>\n",
       "      <td>0.000207</td>\n",
       "      <td>0.000131</td>\n",
       "      <td>0.000281</td>\n",
       "      <td>0.000324</td>\n",
       "      <td>0.000561</td>\n",
       "    </tr>\n",
       "  </tbody>\n",
       "</table>\n",
       "</div>"
      ],
      "text/plain": [
       "                         1         2         3         4         5\n",
       "cell_type                                                         \n",
       "B_cell            0.000312  0.000524  0.000775  0.000262  0.000527\n",
       "Cancer_cell       0.000210  0.000161  0.003129  0.000216  0.000413\n",
       "Endothelial_cell  0.000455  0.000416  0.012433  0.000218  0.000741\n",
       "Fibroblast        0.000321  0.000325  0.013529  0.000158  0.000120\n",
       "Mast_cell         0.000247  0.000619  0.000439  0.000284  0.000469\n",
       "Myeloid_cell      0.000271  0.001212  0.000578  0.000219  0.000717\n",
       "T_cell            0.000297  0.000331  0.000659  0.000416  0.000524\n",
       "pDC               0.000207  0.000131  0.000281  0.000324  0.000561"
      ]
     },
     "execution_count": 10,
     "metadata": {},
     "output_type": "execute_result"
    }
   ],
   "source": [
    "df.iloc[:,[1,2,3,4,5]]"
   ]
  },
  {
   "cell_type": "code",
   "execution_count": 9,
   "metadata": {},
   "outputs": [
    {
     "data": {
      "text/plain": [
       "0.031217676301448498"
      ]
     },
     "execution_count": 9,
     "metadata": {},
     "output_type": "execute_result"
    }
   ],
   "source": [
    "max(adata.obsm[\"SPECTRA_cell_scores\"][:,0])"
   ]
  },
  {
   "cell_type": "code",
   "execution_count": 53,
   "metadata": {},
   "outputs": [],
   "source": [
    "def colorByFactor():\n",
    "    factorList = []\n",
    "    for i in range(len(adata.uns[\"SPECTRA_markers\"])):\n",
    "        factorNames = ', '.join(adata.uns[\"SPECTRA_markers\"][i][:5])\n",
    "        factorString = \"Factor \" + str(i) + \": \" + factorNames\n",
    "        factorList.append(factorString)\n",
    "    return factorList\n",
    "\n",
    "colorByFactor()"
   ]
  }
 ],
 "metadata": {
  "kernelspec": {
   "display_name": "Python 3.9.7 64-bit",
   "language": "python",
   "name": "python3"
  },
  "language_info": {
   "codemirror_mode": {
    "name": "ipython",
    "version": 3
   },
   "file_extension": ".py",
   "mimetype": "text/x-python",
   "name": "python",
   "nbconvert_exporter": "python",
   "pygments_lexer": "ipython3",
   "version": "3.10.2"
  },
  "orig_nbformat": 4,
  "vscode": {
   "interpreter": {
    "hash": "11938c6bc6919ae2720b4d5011047913343b08a43b18698fd82dedb0d4417594"
   }
  }
 },
 "nbformat": 4,
 "nbformat_minor": 2
}
