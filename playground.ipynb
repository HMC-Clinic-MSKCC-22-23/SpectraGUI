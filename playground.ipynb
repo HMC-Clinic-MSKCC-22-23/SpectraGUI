{
 "cells": [
  {
   "cell_type": "code",
   "execution_count": 1,
   "metadata": {},
   "outputs": [],
   "source": [
    "# import our libraries\n",
    "import sys\n",
    "from PyQt5.QtWidgets import *\n",
    "from PyQt5.QtCore import *"
   ]
  },
  {
   "cell_type": "code",
   "execution_count": 2,
   "metadata": {},
   "outputs": [
    {
     "data": {
      "text/plain": [
       "0"
      ]
     },
     "execution_count": 2,
     "metadata": {},
     "output_type": "execute_result"
    }
   ],
   "source": [
    "app = QCoreApplication.instance()\n",
    "if app is None:\n",
    "    app = QApplication(sys.argv)\n",
    "    app.setStyle(\"Fusion\")\n",
    "\n",
    "window = QWidget()\n",
    "layout = QGridLayout()\n",
    "\n",
    "title = QLabel(\"Spectra\")\n",
    "title.setAlignment(Qt.AlignCenter)\n",
    "\n",
    "run_button = QPushButton(\"Run\")\n",
    "\n",
    "def run_button_press():\n",
    "    newWindow = QMessageBox(window)\n",
    "    newWindow.setText(\"Running in progress!\")\n",
    "    newWindow.exec()\n",
    "\n",
    "\n",
    "run_button.clicked.connect(run_button_press)\n",
    "\n",
    "filepath = QLabel(\"\")\n",
    "filepath.setAlignment(Qt.AlignCenter)\n",
    "\n",
    "edit_button = QPushButton(\"Edit\")\n",
    "\n",
    "def edit_button_press():\n",
    "    path, done = QInputDialog.getText(window, \"AnnData FilePath\", \"Input file path to input AnnData:\")\n",
    "\n",
    "    if done:\n",
    "        filepath.setText(path)\n",
    "\n",
    "edit_button.clicked.connect(edit_button_press)\n",
    "\n",
    "\n",
    "layout.addWidget(title, 0, 0, 1, 3)\n",
    "layout.addWidget(filepath, 1, 0, 1, 3)\n",
    "layout.addWidget(edit_button, 2, 0, 1, 1)\n",
    "layout.addWidget(run_button, 2, 3, 1, 1)\n",
    "window.setLayout(layout)\n",
    "window.show()\n",
    "\n",
    "app.exec_()"
   ]
  }
 ],
 "metadata": {
  "interpreter": {
   "hash": "e0d091042142f08f95fbe24eea5f30d9f84a0503ed0a5ab9d4f63f212faef8cd"
  },
  "kernelspec": {
   "display_name": "Python 3.10.2 64-bit",
   "language": "python",
   "name": "python3"
  },
  "language_info": {
   "codemirror_mode": {
    "name": "ipython",
    "version": 3
   },
   "file_extension": ".py",
   "mimetype": "text/x-python",
   "name": "python",
   "nbconvert_exporter": "python",
   "pygments_lexer": "ipython3",
   "version": "3.10.2"
  },
  "orig_nbformat": 4
 },
 "nbformat": 4,
 "nbformat_minor": 2
}
