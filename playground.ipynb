{
 "cells": [
  {
   "cell_type": "code",
   "execution_count": 1,
   "metadata": {},
   "outputs": [],
   "source": [
    "# import our libraries\n",
    "import sys\n",
    "from PyQt5.QtWidgets import *\n",
    "from PyQt5.QtCore import *"
   ]
  },
  {
   "cell_type": "code",
   "execution_count": 14,
   "metadata": {},
   "outputs": [
    {
     "data": {
      "text/plain": [
       "0"
      ]
     },
     "execution_count": 14,
     "metadata": {},
     "output_type": "execute_result"
    }
   ],
   "source": [
    "app = QCoreApplication.instance()\n",
    "if app is None:\n",
    "    app = QApplication(sys.argv)\n",
    "    app.setStyle(\"Fusion\")\n",
    "\n",
    "window = QWidget()\n",
    "layout = QGridLayout()\n",
    "\n",
    "title = QLabel(\"Spectra\")\n",
    "title.setAlignment(Qt.AlignCenter)\n",
    "\n",
    "run_button = QPushButton(\"Run\")\n",
    "\n",
    "def run_button_press():\n",
    "    newWindow = QMessageBox(window)\n",
    "    newWindow.setText(\"Running in progress!\")\n",
    "    newWindow.exec()\n",
    "\n",
    "\n",
    "run_button.clicked.connect(run_button_press)\n",
    "\n",
    "filepath = QLabel(\"\")\n",
    "filepath.setAlignment(Qt.AlignCenter)\n",
    "\n",
    "edit_button = QPushButton(\"Edit\")\n",
    "\n",
    "def edit_button_press():\n",
    "    path, done = QInputDialog.getText(window, \"AnnData FilePath\", \"Input file path to input AnnData:\")\n",
    "\n",
    "    if done:\n",
    "        filepath.setText(path)\n",
    "\n",
    "edit_button.clicked.connect(edit_button_press)\n",
    "\n",
    "\n",
    "layout.addWidget(title, 0, 0, 1, 3)\n",
    "layout.addWidget(filepath, 1, 0, 1, 3)\n",
    "layout.addWidget(edit_button, 2, 0, 1, 1)\n",
    "layout.addWidget(run_button, 2, 3, 1, 1)\n",
    "window.setLayout(layout)\n",
    "window.show()\n",
    "\n",
    "app.exec_()"
   ]
  }
 ],
 "metadata": {
  "language_info": {
   "name": "python"
  },
  "orig_nbformat": 4
 },
 "nbformat": 4,
 "nbformat_minor": 2
}
