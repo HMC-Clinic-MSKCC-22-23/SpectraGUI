{
 "cells": [
  {
   "cell_type": "code",
   "execution_count": 1,
   "metadata": {},
   "outputs": [
    {
     "name": "stderr",
     "output_type": "stream",
     "text": [
      "C:\\Users\\brian\\AppData\\Roaming\\Python\\Python39\\site-packages\\tqdm\\auto.py:22: TqdmWarning: IProgress not found. Please update jupyter and ipywidgets. See https://ipywidgets.readthedocs.io/en/stable/user_install.html\n",
      "  from .autonotebook import tqdm as notebook_tqdm\n"
     ]
    }
   ],
   "source": [
    "# import our libraries\n",
    "import sys\n",
    "import json\n",
    "import pandas as pd\n",
    "import seaborn as sb\n",
    "import sys\n",
    "import PyQt5\n",
    "import PyQt5.QtWidgets as qw\n",
    "import PyQt5.QtCore as qc\n",
    "import PyQt5.QtGui as qg\n",
    "from spectra import spectra as spc\n",
    "import scanpy as sc\n",
    "import matplotlib.pyplot as plt\n",
    "import matplotlib\n",
    "%matplotlib qt\n",
    "# from matplotlib import rcParams\n",
    "# rcParams.update({'figure.autolayout': True})\n"
   ]
  },
  {
   "cell_type": "code",
   "execution_count": 2,
   "metadata": {},
   "outputs": [],
   "source": [
    "adata = sc.read_h5ad(\"../new_data.h5ad\")\n",
    "\n"
   ]
  },
  {
   "cell_type": "code",
   "execution_count": 17,
   "metadata": {},
   "outputs": [
    {
     "name": "stdout",
     "output_type": "stream",
     "text": [
      "False\n",
      "False\n",
      "False\n",
      "False\n",
      "False\n",
      "False\n",
      "False\n",
      "False\n",
      "False\n",
      "False\n",
      "False\n",
      "False\n",
      "False\n",
      "False\n",
      "False\n",
      "False\n",
      "False\n",
      "False\n",
      "False\n",
      "False\n",
      "False\n",
      "False\n",
      "False\n",
      "False\n",
      "False\n",
      "False\n",
      "False\n",
      "False\n",
      "False\n",
      "False\n",
      "False\n",
      "False\n",
      "False\n",
      "False\n",
      "False\n",
      "False\n",
      "False\n",
      "False\n",
      "False\n",
      "False\n",
      "False\n",
      "False\n",
      "False\n",
      "False\n",
      "False\n",
      "False\n",
      "False\n",
      "False\n",
      "False\n",
      "False\n",
      "False\n",
      "False\n",
      "False\n",
      "False\n",
      "False\n",
      "False\n",
      "False\n",
      "False\n",
      "False\n",
      "False\n",
      "False\n",
      "False\n",
      "False\n",
      "False\n",
      "False\n",
      "False\n",
      "False\n",
      "False\n",
      "False\n",
      "False\n",
      "False\n",
      "False\n"
     ]
    }
   ],
   "source": [
    "for x in adata.obs_keys():\n",
    "\n",
    "    print(adata.obs[x].dtype == type(\"category\"))\n"
   ]
  },
  {
   "cell_type": "code",
   "execution_count": 28,
   "metadata": {},
   "outputs": [
    {
     "data": {
      "text/plain": [
       "True"
      ]
     },
     "execution_count": 28,
     "metadata": {},
     "output_type": "execute_result"
    }
   ],
   "source": [
    "test = \n",
    "\n",
    "\"Bassez_cellType\" in test"
   ]
  },
  {
   "cell_type": "code",
   "execution_count": 5,
   "metadata": {},
   "outputs": [],
   "source": [
    "df = pd.DataFrame(adata.obsm[\"SPECTRA_cell_scores\"])\n",
    "df[\"cell_type\"] = adata.obs[\"Bassez_cellType\"].values\n",
    "df = df.groupby(\"cell_type\").mean()\n",
    "sb.set(font_scale = 0.9)"
   ]
  },
  {
   "cell_type": "code",
   "execution_count": 10,
   "metadata": {},
   "outputs": [
    {
     "data": {
      "text/html": [
       "<div>\n",
       "<style scoped>\n",
       "    .dataframe tbody tr th:only-of-type {\n",
       "        vertical-align: middle;\n",
       "    }\n",
       "\n",
       "    .dataframe tbody tr th {\n",
       "        vertical-align: top;\n",
       "    }\n",
       "\n",
       "    .dataframe thead th {\n",
       "        text-align: right;\n",
       "    }\n",
       "</style>\n",
       "<table border=\"1\" class=\"dataframe\">\n",
       "  <thead>\n",
       "    <tr style=\"text-align: right;\">\n",
       "      <th></th>\n",
       "      <th>1</th>\n",
       "      <th>2</th>\n",
       "      <th>3</th>\n",
       "      <th>4</th>\n",
       "      <th>5</th>\n",
       "    </tr>\n",
       "    <tr>\n",
       "      <th>cell_type</th>\n",
       "      <th></th>\n",
       "      <th></th>\n",
       "      <th></th>\n",
       "      <th></th>\n",
       "      <th></th>\n",
       "    </tr>\n",
       "  </thead>\n",
       "  <tbody>\n",
       "    <tr>\n",
       "      <th>B_cell</th>\n",
       "      <td>0.000312</td>\n",
       "      <td>0.000524</td>\n",
       "      <td>0.000775</td>\n",
       "      <td>0.000262</td>\n",
       "      <td>0.000527</td>\n",
       "    </tr>\n",
       "    <tr>\n",
       "      <th>Cancer_cell</th>\n",
       "      <td>0.000210</td>\n",
       "      <td>0.000161</td>\n",
       "      <td>0.003129</td>\n",
       "      <td>0.000216</td>\n",
       "      <td>0.000413</td>\n",
       "    </tr>\n",
       "    <tr>\n",
       "      <th>Endothelial_cell</th>\n",
       "      <td>0.000455</td>\n",
       "      <td>0.000416</td>\n",
       "      <td>0.012433</td>\n",
       "      <td>0.000218</td>\n",
       "      <td>0.000741</td>\n",
       "    </tr>\n",
       "    <tr>\n",
       "      <th>Fibroblast</th>\n",
       "      <td>0.000321</td>\n",
       "      <td>0.000325</td>\n",
       "      <td>0.013529</td>\n",
       "      <td>0.000158</td>\n",
       "      <td>0.000120</td>\n",
       "    </tr>\n",
       "    <tr>\n",
       "      <th>Mast_cell</th>\n",
       "      <td>0.000247</td>\n",
       "      <td>0.000619</td>\n",
       "      <td>0.000439</td>\n",
       "      <td>0.000284</td>\n",
       "      <td>0.000469</td>\n",
       "    </tr>\n",
       "    <tr>\n",
       "      <th>Myeloid_cell</th>\n",
       "      <td>0.000271</td>\n",
       "      <td>0.001212</td>\n",
       "      <td>0.000578</td>\n",
       "      <td>0.000219</td>\n",
       "      <td>0.000717</td>\n",
       "    </tr>\n",
       "    <tr>\n",
       "      <th>T_cell</th>\n",
       "      <td>0.000297</td>\n",
       "      <td>0.000331</td>\n",
       "      <td>0.000659</td>\n",
       "      <td>0.000416</td>\n",
       "      <td>0.000524</td>\n",
       "    </tr>\n",
       "    <tr>\n",
       "      <th>pDC</th>\n",
       "      <td>0.000207</td>\n",
       "      <td>0.000131</td>\n",
       "      <td>0.000281</td>\n",
       "      <td>0.000324</td>\n",
       "      <td>0.000561</td>\n",
       "    </tr>\n",
       "  </tbody>\n",
       "</table>\n",
       "</div>"
      ],
      "text/plain": [
       "                         1         2         3         4         5\n",
       "cell_type                                                         \n",
       "B_cell            0.000312  0.000524  0.000775  0.000262  0.000527\n",
       "Cancer_cell       0.000210  0.000161  0.003129  0.000216  0.000413\n",
       "Endothelial_cell  0.000455  0.000416  0.012433  0.000218  0.000741\n",
       "Fibroblast        0.000321  0.000325  0.013529  0.000158  0.000120\n",
       "Mast_cell         0.000247  0.000619  0.000439  0.000284  0.000469\n",
       "Myeloid_cell      0.000271  0.001212  0.000578  0.000219  0.000717\n",
       "T_cell            0.000297  0.000331  0.000659  0.000416  0.000524\n",
       "pDC               0.000207  0.000131  0.000281  0.000324  0.000561"
      ]
     },
     "execution_count": 10,
     "metadata": {},
     "output_type": "execute_result"
    }
   ],
   "source": [
    "df.iloc[:,[1,2,3,4,5]]"
   ]
  },
  {
   "cell_type": "code",
   "execution_count": 6,
   "metadata": {},
   "outputs": [
    {
     "name": "stderr",
     "output_type": "stream",
     "text": [
      "C:\\Users\\brian\\AppData\\Local\\Temp\\ipykernel_7476\\2186610671.py:6: MatplotlibDeprecationWarning: Auto-removal of grids by pcolor() and pcolormesh() is deprecated since 3.5 and will be removed two minor releases later; please call grid(False) first.\n",
      "  g.figure.colorbar(g.ax_heatmap.collections[0], ax = g.ax_heatmap, location = 'bottom')\n"
     ]
    },
    {
     "data": {
      "text/plain": [
       "<matplotlib.colorbar.Colorbar at 0x26033ce9e50>"
      ]
     },
     "execution_count": 6,
     "metadata": {},
     "output_type": "execute_result"
    }
   ],
   "source": [
    "g = sb.clustermap(df, row_cluster = False, xticklabels = 0, col_cluster = True, cbar_pos = None, dendrogram_ratio = (0, 0.2), standard_scale = 0, linewidth = 0, figsize=(6,4))\n",
    "\n",
    "g.ax_heatmap.set_xlabel(\"Factors\")\n",
    "g.ax_heatmap.set_ylabel(\"Cell type\")\n",
    "\n",
    "g.figure.colorbar(g.ax_heatmap.collections[0], ax = g.ax_heatmap, location = 'bottom')"
   ]
  },
  {
   "cell_type": "code",
   "execution_count": 9,
   "metadata": {},
   "outputs": [
    {
     "data": {
      "text/plain": [
       "0.031217676301448498"
      ]
     },
     "execution_count": 9,
     "metadata": {},
     "output_type": "execute_result"
    }
   ],
   "source": [
    "max(adata.obsm[\"SPECTRA_cell_scores\"][:,0])"
   ]
  },
  {
   "cell_type": "code",
   "execution_count": 53,
   "metadata": {},
   "outputs": [],
   "source": [
    "def colorByFactor():\n",
    "    factorList = []\n",
    "    for i in range(len(adata.uns[\"SPECTRA_markers\"])):\n",
    "        factorNames = ', '.join(adata.uns[\"SPECTRA_markers\"][i][:5])\n",
    "        factorString = \"Factor \" + str(i) + \": \" + factorNames\n",
    "        factorList.append(factorString)\n",
    "    return factorList\n",
    "\n",
    "colorByFactor()"
   ]
  }
 ],
 "metadata": {
  "kernelspec": {
   "display_name": "Python 3.9.7 64-bit",
   "language": "python",
   "name": "python3"
  },
  "language_info": {
   "codemirror_mode": {
    "name": "ipython",
    "version": 3
   },
   "file_extension": ".py",
   "mimetype": "text/x-python",
   "name": "python",
   "nbconvert_exporter": "python",
   "pygments_lexer": "ipython3",
   "version": "3.9.7"
  },
  "orig_nbformat": 4,
  "vscode": {
   "interpreter": {
    "hash": "11938c6bc6919ae2720b4d5011047913343b08a43b18698fd82dedb0d4417594"
   }
  }
 },
 "nbformat": 4,
 "nbformat_minor": 2
}
