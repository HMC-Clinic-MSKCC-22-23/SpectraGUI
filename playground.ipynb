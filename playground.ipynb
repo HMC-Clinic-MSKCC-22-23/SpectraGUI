{
 "cells": [
  {
   "cell_type": "code",
   "execution_count": 3,
   "metadata": {},
   "outputs": [
    {
     "name": "stderr",
     "output_type": "stream",
     "text": [
      "C:\\Users\\brian\\AppData\\Roaming\\Python\\Python39\\site-packages\\tqdm\\auto.py:22: TqdmWarning: IProgress not found. Please update jupyter and ipywidgets. See https://ipywidgets.readthedocs.io/en/stable/user_install.html\n",
      "  from .autonotebook import tqdm as notebook_tqdm\n"
     ]
    }
   ],
   "source": [
    "# import our libraries\n",
    "import sys\n",
    "import json\n",
    "import pandas as pd\n",
    "import seaborn as sb\n",
    "import sys\n",
    "import PyQt5\n",
    "import PyQt5.QtWidgets as qw\n",
    "import PyQt5.QtCore as qc\n",
    "import PyQt5.QtGui as qg\n",
    "from spectra import spectra as spc\n",
    "import scanpy as sc\n",
    "import matplotlib.pyplot as plt\n",
    "import matplotlib\n",
    "%matplotlib qt\n",
    "# from matplotlib import rcParams\n",
    "# rcParams.update({'figure.autolayout': True})\n"
   ]
  },
  {
   "cell_type": "code",
   "execution_count": 4,
   "metadata": {},
   "outputs": [],
   "source": [
    "adata = sc.read_h5ad(\"../new_data.h5ad\")\n",
    "\n",
    "#with open(\"../spectra/annotations_2.json\", \"rb\") as file:\n",
    "     #annotations = json.load(file)"
   ]
  },
  {
   "cell_type": "code",
   "execution_count": 5,
   "metadata": {},
   "outputs": [],
   "source": [
    "df = pd.DataFrame(adata.obsm[\"SPECTRA_cell_scores\"])\n",
    "df[\"cell_type\"] = adata.obs[\"Bassez_cellType\"].values\n",
    "df = df.groupby(\"cell_type\").mean()\n",
    "sb.set(font_scale = 0.9)"
   ]
  },
  {
   "cell_type": "code",
   "execution_count": 6,
   "metadata": {},
   "outputs": [
    {
     "name": "stderr",
     "output_type": "stream",
     "text": [
      "C:\\Users\\brian\\AppData\\Local\\Temp\\ipykernel_7476\\2186610671.py:6: MatplotlibDeprecationWarning: Auto-removal of grids by pcolor() and pcolormesh() is deprecated since 3.5 and will be removed two minor releases later; please call grid(False) first.\n",
      "  g.figure.colorbar(g.ax_heatmap.collections[0], ax = g.ax_heatmap, location = 'bottom')\n"
     ]
    },
    {
     "data": {
      "text/plain": [
       "<matplotlib.colorbar.Colorbar at 0x26033ce9e50>"
      ]
     },
     "execution_count": 6,
     "metadata": {},
     "output_type": "execute_result"
    }
   ],
   "source": [
    "g = sb.clustermap(df, row_cluster = False, xticklabels = 0, col_cluster = True, cbar_pos = None, dendrogram_ratio = (0, 0.2), standard_scale = 0, linewidth = 0, figsize=(6,4))\n",
    "\n",
    "g.ax_heatmap.set_xlabel(\"Factors\")\n",
    "g.ax_heatmap.set_ylabel(\"Cell type\")\n",
    "\n",
    "g.figure.colorbar(g.ax_heatmap.collections[0], ax = g.ax_heatmap, location = 'bottom')"
   ]
  },
  {
   "cell_type": "code",
   "execution_count": 9,
   "metadata": {},
   "outputs": [
    {
     "data": {
      "text/plain": [
       "0.031217676301448498"
      ]
     },
     "execution_count": 9,
     "metadata": {},
     "output_type": "execute_result"
    }
   ],
   "source": [
    "max(adata.obsm[\"SPECTRA_cell_scores\"][:,0])"
   ]
  },
  {
   "cell_type": "code",
   "execution_count": 53,
   "metadata": {},
   "outputs": [],
   "source": [
    "def colorByFactor():\n",
    "    factorList = []\n",
    "    for i in range(len(adata.uns[\"SPECTRA_markers\"])):\n",
    "        factorNames = ', '.join(adata.uns[\"SPECTRA_markers\"][i][:5])\n",
    "        factorString = \"Factor \" + str(i) + \": \" + factorNames\n",
    "        factorList.append(factorString)\n",
    "    return factorList\n",
    "\n",
    "colorByFactor()"
   ]
  }
 ],
 "metadata": {
  "kernelspec": {
   "display_name": "Python 3.9.7 64-bit",
   "language": "python",
   "name": "python3"
  },
  "language_info": {
   "codemirror_mode": {
    "name": "ipython",
    "version": 3
   },
   "file_extension": ".py",
   "mimetype": "text/x-python",
   "name": "python",
   "nbconvert_exporter": "python",
   "pygments_lexer": "ipython3",
   "version": "3.9.7"
  },
  "orig_nbformat": 4,
  "vscode": {
   "interpreter": {
    "hash": "11938c6bc6919ae2720b4d5011047913343b08a43b18698fd82dedb0d4417594"
   }
  }
 },
 "nbformat": 4,
 "nbformat_minor": 2
}
